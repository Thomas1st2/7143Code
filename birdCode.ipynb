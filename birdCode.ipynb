{
 "cells": [
  {
   "cell_type": "code",
   "execution_count": 1,
   "id": "5d8e0813",
   "metadata": {},
   "outputs": [],
   "source": [
    "import numpy as np\n",
    "import pandas as pd\n",
    "import matplotlib.pyplot as plt\n",
    "import seaborn as sns\n",
    "%matplotlib inline\n",
    "from imblearn.over_sampling import SMOTE\n",
    "from sklearn.preprocessing import LabelEncoder ## Used to turn out type label to numeric\n",
    "from sklearn.model_selection import train_test_split\n",
    "from collections import Counter ## Used to help check if Oversampling was correctly applied\n",
    "from sklearn import preprocessing\n",
    "from sklearn.metrics import classification_report, confusion_matrix\n",
    "## Model Imports Below\n",
    "from sklearn.tree import DecisionTreeClassifier\n",
    "from sklearn.svm import SVC\n",
    "from sklearn.naive_bayes import MultinomialNB, GaussianNB, CategoricalNB ## Tested out multiple Naive Bayes models\n",
    "from sklearn.linear_model import LogisticRegression"
   ]
  },
  {
   "cell_type": "code",
   "execution_count": null,
   "id": "f3ad472c",
   "metadata": {},
   "outputs": [],
   "source": []
  },
  {
   "cell_type": "code",
   "execution_count": 2,
   "id": "e1bf0d5b",
   "metadata": {},
   "outputs": [],
   "source": [
    "df = pd.read_csv('./bird.csv')"
   ]
  },
  {
   "cell_type": "code",
   "execution_count": 3,
   "id": "25d12180",
   "metadata": {},
   "outputs": [
    {
     "data": {
      "text/html": [
       "<div>\n",
       "<style scoped>\n",
       "    .dataframe tbody tr th:only-of-type {\n",
       "        vertical-align: middle;\n",
       "    }\n",
       "\n",
       "    .dataframe tbody tr th {\n",
       "        vertical-align: top;\n",
       "    }\n",
       "\n",
       "    .dataframe thead th {\n",
       "        text-align: right;\n",
       "    }\n",
       "</style>\n",
       "<table border=\"1\" class=\"dataframe\">\n",
       "  <thead>\n",
       "    <tr style=\"text-align: right;\">\n",
       "      <th></th>\n",
       "      <th>id</th>\n",
       "      <th>huml</th>\n",
       "      <th>humw</th>\n",
       "      <th>ulnal</th>\n",
       "      <th>ulnaw</th>\n",
       "      <th>feml</th>\n",
       "      <th>femw</th>\n",
       "      <th>tibl</th>\n",
       "      <th>tibw</th>\n",
       "      <th>tarl</th>\n",
       "      <th>tarw</th>\n",
       "      <th>type</th>\n",
       "    </tr>\n",
       "  </thead>\n",
       "  <tbody>\n",
       "    <tr>\n",
       "      <th>0</th>\n",
       "      <td>0</td>\n",
       "      <td>80.78</td>\n",
       "      <td>6.68</td>\n",
       "      <td>72.01</td>\n",
       "      <td>4.88</td>\n",
       "      <td>41.81</td>\n",
       "      <td>3.70</td>\n",
       "      <td>5.50</td>\n",
       "      <td>4.03</td>\n",
       "      <td>38.70</td>\n",
       "      <td>3.84</td>\n",
       "      <td>SW</td>\n",
       "    </tr>\n",
       "    <tr>\n",
       "      <th>1</th>\n",
       "      <td>1</td>\n",
       "      <td>88.91</td>\n",
       "      <td>6.63</td>\n",
       "      <td>80.53</td>\n",
       "      <td>5.59</td>\n",
       "      <td>47.04</td>\n",
       "      <td>4.30</td>\n",
       "      <td>80.22</td>\n",
       "      <td>4.51</td>\n",
       "      <td>41.50</td>\n",
       "      <td>4.01</td>\n",
       "      <td>SW</td>\n",
       "    </tr>\n",
       "    <tr>\n",
       "      <th>2</th>\n",
       "      <td>2</td>\n",
       "      <td>79.97</td>\n",
       "      <td>6.37</td>\n",
       "      <td>69.26</td>\n",
       "      <td>5.28</td>\n",
       "      <td>43.07</td>\n",
       "      <td>3.90</td>\n",
       "      <td>75.35</td>\n",
       "      <td>4.04</td>\n",
       "      <td>38.31</td>\n",
       "      <td>3.34</td>\n",
       "      <td>SW</td>\n",
       "    </tr>\n",
       "    <tr>\n",
       "      <th>3</th>\n",
       "      <td>3</td>\n",
       "      <td>77.65</td>\n",
       "      <td>5.70</td>\n",
       "      <td>65.76</td>\n",
       "      <td>4.77</td>\n",
       "      <td>40.04</td>\n",
       "      <td>3.52</td>\n",
       "      <td>69.17</td>\n",
       "      <td>3.40</td>\n",
       "      <td>35.78</td>\n",
       "      <td>3.41</td>\n",
       "      <td>SW</td>\n",
       "    </tr>\n",
       "    <tr>\n",
       "      <th>4</th>\n",
       "      <td>4</td>\n",
       "      <td>62.80</td>\n",
       "      <td>4.84</td>\n",
       "      <td>52.09</td>\n",
       "      <td>3.73</td>\n",
       "      <td>33.95</td>\n",
       "      <td>2.72</td>\n",
       "      <td>56.27</td>\n",
       "      <td>2.96</td>\n",
       "      <td>31.88</td>\n",
       "      <td>3.13</td>\n",
       "      <td>SW</td>\n",
       "    </tr>\n",
       "  </tbody>\n",
       "</table>\n",
       "</div>"
      ],
      "text/plain": [
       "   id   huml  humw  ulnal  ulnaw   feml  femw   tibl  tibw   tarl  tarw type\n",
       "0   0  80.78  6.68  72.01   4.88  41.81  3.70   5.50  4.03  38.70  3.84   SW\n",
       "1   1  88.91  6.63  80.53   5.59  47.04  4.30  80.22  4.51  41.50  4.01   SW\n",
       "2   2  79.97  6.37  69.26   5.28  43.07  3.90  75.35  4.04  38.31  3.34   SW\n",
       "3   3  77.65  5.70  65.76   4.77  40.04  3.52  69.17  3.40  35.78  3.41   SW\n",
       "4   4  62.80  4.84  52.09   3.73  33.95  2.72  56.27  2.96  31.88  3.13   SW"
      ]
     },
     "execution_count": 3,
     "metadata": {},
     "output_type": "execute_result"
    }
   ],
   "source": [
    "df.head()"
   ]
  },
  {
   "cell_type": "code",
   "execution_count": 4,
   "id": "00da9c70",
   "metadata": {},
   "outputs": [
    {
     "name": "stderr",
     "output_type": "stream",
     "text": [
      "/home/msc1/anaconda3/envs/Env-7143COMP/lib/python3.7/site-packages/seaborn/distributions.py:2557: FutureWarning: `distplot` is a deprecated function and will be removed in a future version. Please adapt your code to use either `displot` (a figure-level function with similar flexibility) or `histplot` (an axes-level function for histograms).\n",
      "  warnings.warn(msg, FutureWarning)\n"
     ]
    },
    {
     "data": {
      "text/plain": [
       "<AxesSubplot:xlabel='ulnal', ylabel='Density'>"
      ]
     },
     "execution_count": 4,
     "metadata": {},
     "output_type": "execute_result"
    },
    {
     "data": {
      "image/png": "[encoded data removed]",
      "text/plain": [
       "<Figure size 432x288 with 1 Axes>"
      ]
     },
     "metadata": {
      "needs_background": "light"
     },
     "output_type": "display_data"
    }
   ],
   "source": [
    "sns.distplot(df['ulnal'])"
   ]
  },
  {
   "cell_type": "markdown",
   "id": "76190936",
   "metadata": {},
   "source": [
    "Countplot"
   ]
  },
  {
   "cell_type": "code",
   "execution_count": 5,
   "id": "1f0e369e",
   "metadata": {},
   "outputs": [
    {
     "data": {
      "text/html": [
       "<div>\n",
       "<style scoped>\n",
       "    .dataframe tbody tr th:only-of-type {\n",
       "        vertical-align: middle;\n",
       "    }\n",
       "\n",
       "    .dataframe tbody tr th {\n",
       "        vertical-align: top;\n",
       "    }\n",
       "\n",
       "    .dataframe thead th {\n",
       "        text-align: right;\n",
       "    }\n",
       "</style>\n",
       "<table border=\"1\" class=\"dataframe\">\n",
       "  <thead>\n",
       "    <tr style=\"text-align: right;\">\n",
       "      <th></th>\n",
       "      <th>id</th>\n",
       "      <th>huml</th>\n",
       "      <th>humw</th>\n",
       "      <th>ulnal</th>\n",
       "      <th>ulnaw</th>\n",
       "      <th>feml</th>\n",
       "      <th>femw</th>\n",
       "      <th>tibl</th>\n",
       "      <th>tibw</th>\n",
       "      <th>tarl</th>\n",
       "      <th>tarw</th>\n",
       "      <th>type</th>\n",
       "    </tr>\n",
       "  </thead>\n",
       "  <tbody>\n",
       "    <tr>\n",
       "      <th>0</th>\n",
       "      <td>0</td>\n",
       "      <td>80.78</td>\n",
       "      <td>6.68</td>\n",
       "      <td>72.01</td>\n",
       "      <td>4.88</td>\n",
       "      <td>41.81</td>\n",
       "      <td>3.70</td>\n",
       "      <td>5.50</td>\n",
       "      <td>4.03</td>\n",
       "      <td>38.70</td>\n",
       "      <td>3.84</td>\n",
       "      <td>SW</td>\n",
       "    </tr>\n",
       "    <tr>\n",
       "      <th>1</th>\n",
       "      <td>1</td>\n",
       "      <td>88.91</td>\n",
       "      <td>6.63</td>\n",
       "      <td>80.53</td>\n",
       "      <td>5.59</td>\n",
       "      <td>47.04</td>\n",
       "      <td>4.30</td>\n",
       "      <td>80.22</td>\n",
       "      <td>4.51</td>\n",
       "      <td>41.50</td>\n",
       "      <td>4.01</td>\n",
       "      <td>SW</td>\n",
       "    </tr>\n",
       "    <tr>\n",
       "      <th>2</th>\n",
       "      <td>2</td>\n",
       "      <td>79.97</td>\n",
       "      <td>6.37</td>\n",
       "      <td>69.26</td>\n",
       "      <td>5.28</td>\n",
       "      <td>43.07</td>\n",
       "      <td>3.90</td>\n",
       "      <td>75.35</td>\n",
       "      <td>4.04</td>\n",
       "      <td>38.31</td>\n",
       "      <td>3.34</td>\n",
       "      <td>SW</td>\n",
       "    </tr>\n",
       "    <tr>\n",
       "      <th>3</th>\n",
       "      <td>3</td>\n",
       "      <td>77.65</td>\n",
       "      <td>5.70</td>\n",
       "      <td>65.76</td>\n",
       "      <td>4.77</td>\n",
       "      <td>40.04</td>\n",
       "      <td>3.52</td>\n",
       "      <td>69.17</td>\n",
       "      <td>3.40</td>\n",
       "      <td>35.78</td>\n",
       "      <td>3.41</td>\n",
       "      <td>SW</td>\n",
       "    </tr>\n",
       "    <tr>\n",
       "      <th>4</th>\n",
       "      <td>4</td>\n",
       "      <td>62.80</td>\n",
       "      <td>4.84</td>\n",
       "      <td>52.09</td>\n",
       "      <td>3.73</td>\n",
       "      <td>33.95</td>\n",
       "      <td>2.72</td>\n",
       "      <td>56.27</td>\n",
       "      <td>2.96</td>\n",
       "      <td>31.88</td>\n",
       "      <td>3.13</td>\n",
       "      <td>SW</td>\n",
       "    </tr>\n",
       "  </tbody>\n",
       "</table>\n",
       "</div>"
      ],
      "text/plain": [
       "   id   huml  humw  ulnal  ulnaw   feml  femw   tibl  tibw   tarl  tarw type\n",
       "0   0  80.78  6.68  72.01   4.88  41.81  3.70   5.50  4.03  38.70  3.84   SW\n",
       "1   1  88.91  6.63  80.53   5.59  47.04  4.30  80.22  4.51  41.50  4.01   SW\n",
       "2   2  79.97  6.37  69.26   5.28  43.07  3.90  75.35  4.04  38.31  3.34   SW\n",
       "3   3  77.65  5.70  65.76   4.77  40.04  3.52  69.17  3.40  35.78  3.41   SW\n",
       "4   4  62.80  4.84  52.09   3.73  33.95  2.72  56.27  2.96  31.88  3.13   SW"
      ]
     },
     "execution_count": 5,
     "metadata": {},
     "output_type": "execute_result"
    }
   ],
   "source": [
    "df.head()"
   ]
  },
  {
   "cell_type": "code",
   "execution_count": 6,
   "id": "dbbaac3a",
   "metadata": {},
   "outputs": [
    {
     "data": {
      "text/plain": [
       "<AxesSubplot:xlabel='type', ylabel='count'>"
      ]
     },
     "execution_count": 6,
     "metadata": {},
     "output_type": "execute_result"
    },
    {
     "data": {
      "image/png": "[encoded data removed]",
      "text/plain": [
       "<Figure size 432x288 with 1 Axes>"
      ]
     },
     "metadata": {
      "needs_background": "light"
     },
     "output_type": "display_data"
    }
   ],
   "source": [
    "sns.countplot(x='type',data=df)"
   ]
  },
  {
   "cell_type": "code",
   "execution_count": 7,
   "id": "9c5b7f4a",
   "metadata": {},
   "outputs": [
    {
     "data": {
      "text/plain": [
       "<AxesSubplot:xlabel='huml', ylabel='humw'>"
      ]
     },
     "execution_count": 7,
     "metadata": {},
     "output_type": "execute_result"
    },
    {
     "data": {
      "image/png": "[encoded data removed]",
      "text/plain": [
       "<Figure size 432x288 with 1 Axes>"
      ]
     },
     "metadata": {
      "needs_background": "light"
     },
     "output_type": "display_data"
    }
   ],
   "source": [
    "sns.scatterplot(x='huml', y='humw', data=df, hue='type')"
   ]
  },
  {
   "cell_type": "code",
   "execution_count": 8,
   "id": "5b8fc055",
   "metadata": {},
   "outputs": [],
   "source": [
    "## sns.pairplot(df, hue='type')\n",
    "## Takes forever to load when rerunning entire Kernel"
   ]
  },
  {
   "cell_type": "code",
   "execution_count": 9,
   "id": "3689aca3",
   "metadata": {},
   "outputs": [
    {
     "data": {
      "text/html": [
       "<div>\n",
       "<style scoped>\n",
       "    .dataframe tbody tr th:only-of-type {\n",
       "        vertical-align: middle;\n",
       "    }\n",
       "\n",
       "    .dataframe tbody tr th {\n",
       "        vertical-align: top;\n",
       "    }\n",
       "\n",
       "    .dataframe thead th {\n",
       "        text-align: right;\n",
       "    }\n",
       "</style>\n",
       "<table border=\"1\" class=\"dataframe\">\n",
       "  <thead>\n",
       "    <tr style=\"text-align: right;\">\n",
       "      <th></th>\n",
       "      <th>count</th>\n",
       "      <th>mean</th>\n",
       "      <th>std</th>\n",
       "      <th>min</th>\n",
       "      <th>25%</th>\n",
       "      <th>50%</th>\n",
       "      <th>75%</th>\n",
       "      <th>max</th>\n",
       "    </tr>\n",
       "  </thead>\n",
       "  <tbody>\n",
       "    <tr>\n",
       "      <th>id</th>\n",
       "      <td>420.0</td>\n",
       "      <td>209.500000</td>\n",
       "      <td>121.387808</td>\n",
       "      <td>0.00</td>\n",
       "      <td>104.7500</td>\n",
       "      <td>209.500</td>\n",
       "      <td>314.250</td>\n",
       "      <td>419.00</td>\n",
       "    </tr>\n",
       "    <tr>\n",
       "      <th>huml</th>\n",
       "      <td>419.0</td>\n",
       "      <td>64.650501</td>\n",
       "      <td>53.834549</td>\n",
       "      <td>9.85</td>\n",
       "      <td>25.1700</td>\n",
       "      <td>44.180</td>\n",
       "      <td>90.310</td>\n",
       "      <td>420.00</td>\n",
       "    </tr>\n",
       "    <tr>\n",
       "      <th>humw</th>\n",
       "      <td>419.0</td>\n",
       "      <td>4.370573</td>\n",
       "      <td>2.854617</td>\n",
       "      <td>1.14</td>\n",
       "      <td>2.1900</td>\n",
       "      <td>3.500</td>\n",
       "      <td>5.810</td>\n",
       "      <td>17.84</td>\n",
       "    </tr>\n",
       "    <tr>\n",
       "      <th>ulnal</th>\n",
       "      <td>417.0</td>\n",
       "      <td>69.115372</td>\n",
       "      <td>58.784775</td>\n",
       "      <td>14.09</td>\n",
       "      <td>28.0500</td>\n",
       "      <td>43.710</td>\n",
       "      <td>97.520</td>\n",
       "      <td>422.00</td>\n",
       "    </tr>\n",
       "    <tr>\n",
       "      <th>ulnaw</th>\n",
       "      <td>418.0</td>\n",
       "      <td>3.597249</td>\n",
       "      <td>2.186747</td>\n",
       "      <td>1.00</td>\n",
       "      <td>1.8700</td>\n",
       "      <td>2.945</td>\n",
       "      <td>4.770</td>\n",
       "      <td>12.00</td>\n",
       "    </tr>\n",
       "    <tr>\n",
       "      <th>feml</th>\n",
       "      <td>418.0</td>\n",
       "      <td>36.872416</td>\n",
       "      <td>19.979082</td>\n",
       "      <td>11.83</td>\n",
       "      <td>21.2975</td>\n",
       "      <td>31.130</td>\n",
       "      <td>47.120</td>\n",
       "      <td>117.07</td>\n",
       "    </tr>\n",
       "    <tr>\n",
       "      <th>femw</th>\n",
       "      <td>419.0</td>\n",
       "      <td>3.220883</td>\n",
       "      <td>2.023581</td>\n",
       "      <td>0.93</td>\n",
       "      <td>1.7150</td>\n",
       "      <td>2.520</td>\n",
       "      <td>4.135</td>\n",
       "      <td>11.64</td>\n",
       "    </tr>\n",
       "    <tr>\n",
       "      <th>tibl</th>\n",
       "      <td>418.0</td>\n",
       "      <td>64.662823</td>\n",
       "      <td>37.838145</td>\n",
       "      <td>5.50</td>\n",
       "      <td>36.4175</td>\n",
       "      <td>52.120</td>\n",
       "      <td>82.870</td>\n",
       "      <td>240.00</td>\n",
       "    </tr>\n",
       "    <tr>\n",
       "      <th>tibw</th>\n",
       "      <td>419.0</td>\n",
       "      <td>3.182339</td>\n",
       "      <td>2.080827</td>\n",
       "      <td>0.87</td>\n",
       "      <td>1.5650</td>\n",
       "      <td>2.490</td>\n",
       "      <td>4.255</td>\n",
       "      <td>11.03</td>\n",
       "    </tr>\n",
       "    <tr>\n",
       "      <th>tarl</th>\n",
       "      <td>419.0</td>\n",
       "      <td>39.229976</td>\n",
       "      <td>23.184313</td>\n",
       "      <td>7.77</td>\n",
       "      <td>23.0350</td>\n",
       "      <td>31.740</td>\n",
       "      <td>50.250</td>\n",
       "      <td>175.00</td>\n",
       "    </tr>\n",
       "    <tr>\n",
       "      <th>tarw</th>\n",
       "      <td>419.0</td>\n",
       "      <td>2.930024</td>\n",
       "      <td>2.185673</td>\n",
       "      <td>0.66</td>\n",
       "      <td>1.4250</td>\n",
       "      <td>2.230</td>\n",
       "      <td>3.500</td>\n",
       "      <td>14.09</td>\n",
       "    </tr>\n",
       "  </tbody>\n",
       "</table>\n",
       "</div>"
      ],
      "text/plain": [
       "       count        mean         std    min       25%      50%      75%  \\\n",
       "id     420.0  209.500000  121.387808   0.00  104.7500  209.500  314.250   \n",
       "huml   419.0   64.650501   53.834549   9.85   25.1700   44.180   90.310   \n",
       "humw   419.0    4.370573    2.854617   1.14    2.1900    3.500    5.810   \n",
       "ulnal  417.0   69.115372   58.784775  14.09   28.0500   43.710   97.520   \n",
       "ulnaw  418.0    3.597249    2.186747   1.00    1.8700    2.945    4.770   \n",
       "feml   418.0   36.872416   19.979082  11.83   21.2975   31.130   47.120   \n",
       "femw   419.0    3.220883    2.023581   0.93    1.7150    2.520    4.135   \n",
       "tibl   418.0   64.662823   37.838145   5.50   36.4175   52.120   82.870   \n",
       "tibw   419.0    3.182339    2.080827   0.87    1.5650    2.490    4.255   \n",
       "tarl   419.0   39.229976   23.184313   7.77   23.0350   31.740   50.250   \n",
       "tarw   419.0    2.930024    2.185673   0.66    1.4250    2.230    3.500   \n",
       "\n",
       "          max  \n",
       "id     419.00  \n",
       "huml   420.00  \n",
       "humw    17.84  \n",
       "ulnal  422.00  \n",
       "ulnaw   12.00  \n",
       "feml   117.07  \n",
       "femw    11.64  \n",
       "tibl   240.00  \n",
       "tibw    11.03  \n",
       "tarl   175.00  \n",
       "tarw    14.09  "
      ]
     },
     "execution_count": 9,
     "metadata": {},
     "output_type": "execute_result"
    }
   ],
   "source": [
    "df.describe().transpose()"
   ]
  },
  {
   "cell_type": "code",
   "execution_count": 10,
   "id": "1cc4bb83",
   "metadata": {},
   "outputs": [
    {
     "data": {
      "text/html": [
       "<div>\n",
       "<style scoped>\n",
       "    .dataframe tbody tr th:only-of-type {\n",
       "        vertical-align: middle;\n",
       "    }\n",
       "\n",
       "    .dataframe tbody tr th {\n",
       "        vertical-align: top;\n",
       "    }\n",
       "\n",
       "    .dataframe thead th {\n",
       "        text-align: right;\n",
       "    }\n",
       "</style>\n",
       "<table border=\"1\" class=\"dataframe\">\n",
       "  <thead>\n",
       "    <tr style=\"text-align: right;\">\n",
       "      <th></th>\n",
       "      <th>id</th>\n",
       "      <th>huml</th>\n",
       "      <th>humw</th>\n",
       "      <th>ulnal</th>\n",
       "      <th>ulnaw</th>\n",
       "      <th>feml</th>\n",
       "      <th>femw</th>\n",
       "      <th>tibl</th>\n",
       "      <th>tibw</th>\n",
       "      <th>tarl</th>\n",
       "      <th>tarw</th>\n",
       "    </tr>\n",
       "  </thead>\n",
       "  <tbody>\n",
       "    <tr>\n",
       "      <th>id</th>\n",
       "      <td>1.000000</td>\n",
       "      <td>-0.637165</td>\n",
       "      <td>-0.612314</td>\n",
       "      <td>-0.564029</td>\n",
       "      <td>-0.644609</td>\n",
       "      <td>-0.439659</td>\n",
       "      <td>-0.521161</td>\n",
       "      <td>-0.549718</td>\n",
       "      <td>-0.576338</td>\n",
       "      <td>-0.382144</td>\n",
       "      <td>-0.512848</td>\n",
       "    </tr>\n",
       "    <tr>\n",
       "      <th>huml</th>\n",
       "      <td>-0.637165</td>\n",
       "      <td>1.000000</td>\n",
       "      <td>0.916572</td>\n",
       "      <td>0.976377</td>\n",
       "      <td>0.887025</td>\n",
       "      <td>0.771054</td>\n",
       "      <td>0.850474</td>\n",
       "      <td>0.826899</td>\n",
       "      <td>0.869339</td>\n",
       "      <td>0.695027</td>\n",
       "      <td>0.751122</td>\n",
       "    </tr>\n",
       "    <tr>\n",
       "      <th>humw</th>\n",
       "      <td>-0.612314</td>\n",
       "      <td>0.916572</td>\n",
       "      <td>1.000000</td>\n",
       "      <td>0.900770</td>\n",
       "      <td>0.957790</td>\n",
       "      <td>0.871023</td>\n",
       "      <td>0.936179</td>\n",
       "      <td>0.820093</td>\n",
       "      <td>0.901478</td>\n",
       "      <td>0.676207</td>\n",
       "      <td>0.892047</td>\n",
       "    </tr>\n",
       "    <tr>\n",
       "      <th>ulnal</th>\n",
       "      <td>-0.564029</td>\n",
       "      <td>0.976377</td>\n",
       "      <td>0.900770</td>\n",
       "      <td>1.000000</td>\n",
       "      <td>0.871604</td>\n",
       "      <td>0.759309</td>\n",
       "      <td>0.837922</td>\n",
       "      <td>0.761994</td>\n",
       "      <td>0.818507</td>\n",
       "      <td>0.653622</td>\n",
       "      <td>0.737557</td>\n",
       "    </tr>\n",
       "    <tr>\n",
       "      <th>ulnaw</th>\n",
       "      <td>-0.644609</td>\n",
       "      <td>0.887025</td>\n",
       "      <td>0.957790</td>\n",
       "      <td>0.871604</td>\n",
       "      <td>1.000000</td>\n",
       "      <td>0.826243</td>\n",
       "      <td>0.898133</td>\n",
       "      <td>0.797017</td>\n",
       "      <td>0.870392</td>\n",
       "      <td>0.642814</td>\n",
       "      <td>0.870590</td>\n",
       "    </tr>\n",
       "    <tr>\n",
       "      <th>feml</th>\n",
       "      <td>-0.439659</td>\n",
       "      <td>0.771054</td>\n",
       "      <td>0.871023</td>\n",
       "      <td>0.759309</td>\n",
       "      <td>0.826243</td>\n",
       "      <td>1.000000</td>\n",
       "      <td>0.944668</td>\n",
       "      <td>0.859952</td>\n",
       "      <td>0.904081</td>\n",
       "      <td>0.832182</td>\n",
       "      <td>0.869299</td>\n",
       "    </tr>\n",
       "    <tr>\n",
       "      <th>femw</th>\n",
       "      <td>-0.521161</td>\n",
       "      <td>0.850474</td>\n",
       "      <td>0.936179</td>\n",
       "      <td>0.837922</td>\n",
       "      <td>0.898133</td>\n",
       "      <td>0.944668</td>\n",
       "      <td>1.000000</td>\n",
       "      <td>0.868170</td>\n",
       "      <td>0.959632</td>\n",
       "      <td>0.778986</td>\n",
       "      <td>0.901852</td>\n",
       "    </tr>\n",
       "    <tr>\n",
       "      <th>tibl</th>\n",
       "      <td>-0.549718</td>\n",
       "      <td>0.826899</td>\n",
       "      <td>0.820093</td>\n",
       "      <td>0.761994</td>\n",
       "      <td>0.797017</td>\n",
       "      <td>0.859952</td>\n",
       "      <td>0.868170</td>\n",
       "      <td>1.000000</td>\n",
       "      <td>0.928618</td>\n",
       "      <td>0.922262</td>\n",
       "      <td>0.736695</td>\n",
       "    </tr>\n",
       "    <tr>\n",
       "      <th>tibw</th>\n",
       "      <td>-0.576338</td>\n",
       "      <td>0.869339</td>\n",
       "      <td>0.901478</td>\n",
       "      <td>0.818507</td>\n",
       "      <td>0.870392</td>\n",
       "      <td>0.904081</td>\n",
       "      <td>0.959632</td>\n",
       "      <td>0.928618</td>\n",
       "      <td>1.000000</td>\n",
       "      <td>0.825557</td>\n",
       "      <td>0.855164</td>\n",
       "    </tr>\n",
       "    <tr>\n",
       "      <th>tarl</th>\n",
       "      <td>-0.382144</td>\n",
       "      <td>0.695027</td>\n",
       "      <td>0.676207</td>\n",
       "      <td>0.653622</td>\n",
       "      <td>0.642814</td>\n",
       "      <td>0.832182</td>\n",
       "      <td>0.778986</td>\n",
       "      <td>0.922262</td>\n",
       "      <td>0.825557</td>\n",
       "      <td>1.000000</td>\n",
       "      <td>0.605585</td>\n",
       "    </tr>\n",
       "    <tr>\n",
       "      <th>tarw</th>\n",
       "      <td>-0.512848</td>\n",
       "      <td>0.751122</td>\n",
       "      <td>0.892047</td>\n",
       "      <td>0.737557</td>\n",
       "      <td>0.870590</td>\n",
       "      <td>0.869299</td>\n",
       "      <td>0.901852</td>\n",
       "      <td>0.736695</td>\n",
       "      <td>0.855164</td>\n",
       "      <td>0.605585</td>\n",
       "      <td>1.000000</td>\n",
       "    </tr>\n",
       "  </tbody>\n",
       "</table>\n",
       "</div>"
      ],
      "text/plain": [
       "             id      huml      humw     ulnal     ulnaw      feml      femw  \\\n",
       "id     1.000000 -0.637165 -0.612314 -0.564029 -0.644609 -0.439659 -0.521161   \n",
       "huml  -0.637165  1.000000  0.916572  0.976377  0.887025  0.771054  0.850474   \n",
       "humw  -0.612314  0.916572  1.000000  0.900770  0.957790  0.871023  0.936179   \n",
       "ulnal -0.564029  0.976377  0.900770  1.000000  0.871604  0.759309  0.837922   \n",
       "ulnaw -0.644609  0.887025  0.957790  0.871604  1.000000  0.826243  0.898133   \n",
       "feml  -0.439659  0.771054  0.871023  0.759309  0.826243  1.000000  0.944668   \n",
       "femw  -0.521161  0.850474  0.936179  0.837922  0.898133  0.944668  1.000000   \n",
       "tibl  -0.549718  0.826899  0.820093  0.761994  0.797017  0.859952  0.868170   \n",
       "tibw  -0.576338  0.869339  0.901478  0.818507  0.870392  0.904081  0.959632   \n",
       "tarl  -0.382144  0.695027  0.676207  0.653622  0.642814  0.832182  0.778986   \n",
       "tarw  -0.512848  0.751122  0.892047  0.737557  0.870590  0.869299  0.901852   \n",
       "\n",
       "           tibl      tibw      tarl      tarw  \n",
       "id    -0.549718 -0.576338 -0.382144 -0.512848  \n",
       "huml   0.826899  0.869339  0.695027  0.751122  \n",
       "humw   0.820093  0.901478  0.676207  0.892047  \n",
       "ulnal  0.761994  0.818507  0.653622  0.737557  \n",
       "ulnaw  0.797017  0.870392  0.642814  0.870590  \n",
       "feml   0.859952  0.904081  0.832182  0.869299  \n",
       "femw   0.868170  0.959632  0.778986  0.901852  \n",
       "tibl   1.000000  0.928618  0.922262  0.736695  \n",
       "tibw   0.928618  1.000000  0.825557  0.855164  \n",
       "tarl   0.922262  0.825557  1.000000  0.605585  \n",
       "tarw   0.736695  0.855164  0.605585  1.000000  "
      ]
     },
     "execution_count": 10,
     "metadata": {},
     "output_type": "execute_result"
    }
   ],
   "source": [
    "df.corr()"
   ]
  },
  {
   "cell_type": "code",
   "execution_count": 11,
   "id": "9a70b3c5",
   "metadata": {},
   "outputs": [],
   "source": [
    "df.dropna(inplace=True)"
   ]
  },
  {
   "cell_type": "code",
   "execution_count": 12,
   "id": "84d130fd",
   "metadata": {},
   "outputs": [
    {
     "data": {
      "text/plain": [
       "<AxesSubplot:xlabel='type', ylabel='count'>"
      ]
     },
     "execution_count": 12,
     "metadata": {},
     "output_type": "execute_result"
    },
    {
     "data": {
      "image/png": "[encoded data removed]",
      "text/plain": [
       "<Figure size 432x288 with 1 Axes>"
      ]
     },
     "metadata": {
      "needs_background": "light"
     },
     "output_type": "display_data"
    }
   ],
   "source": [
    "sns.countplot(x='type',data=df)"
   ]
  },
  {
   "cell_type": "code",
   "execution_count": 13,
   "id": "2c3dfb88",
   "metadata": {},
   "outputs": [
    {
     "data": {
      "text/html": [
       "<div>\n",
       "<style scoped>\n",
       "    .dataframe tbody tr th:only-of-type {\n",
       "        vertical-align: middle;\n",
       "    }\n",
       "\n",
       "    .dataframe tbody tr th {\n",
       "        vertical-align: top;\n",
       "    }\n",
       "\n",
       "    .dataframe thead th {\n",
       "        text-align: right;\n",
       "    }\n",
       "</style>\n",
       "<table border=\"1\" class=\"dataframe\">\n",
       "  <thead>\n",
       "    <tr style=\"text-align: right;\">\n",
       "      <th></th>\n",
       "      <th>id</th>\n",
       "      <th>huml</th>\n",
       "      <th>humw</th>\n",
       "      <th>ulnal</th>\n",
       "      <th>ulnaw</th>\n",
       "      <th>feml</th>\n",
       "      <th>femw</th>\n",
       "      <th>tibl</th>\n",
       "      <th>tibw</th>\n",
       "      <th>tarl</th>\n",
       "      <th>tarw</th>\n",
       "      <th>type</th>\n",
       "    </tr>\n",
       "  </thead>\n",
       "  <tbody>\n",
       "    <tr>\n",
       "      <th>0</th>\n",
       "      <td>0</td>\n",
       "      <td>80.78</td>\n",
       "      <td>6.68</td>\n",
       "      <td>72.01</td>\n",
       "      <td>4.88</td>\n",
       "      <td>41.81</td>\n",
       "      <td>3.70</td>\n",
       "      <td>5.50</td>\n",
       "      <td>4.03</td>\n",
       "      <td>38.70</td>\n",
       "      <td>3.84</td>\n",
       "      <td>SW</td>\n",
       "    </tr>\n",
       "    <tr>\n",
       "      <th>1</th>\n",
       "      <td>1</td>\n",
       "      <td>88.91</td>\n",
       "      <td>6.63</td>\n",
       "      <td>80.53</td>\n",
       "      <td>5.59</td>\n",
       "      <td>47.04</td>\n",
       "      <td>4.30</td>\n",
       "      <td>80.22</td>\n",
       "      <td>4.51</td>\n",
       "      <td>41.50</td>\n",
       "      <td>4.01</td>\n",
       "      <td>SW</td>\n",
       "    </tr>\n",
       "    <tr>\n",
       "      <th>2</th>\n",
       "      <td>2</td>\n",
       "      <td>79.97</td>\n",
       "      <td>6.37</td>\n",
       "      <td>69.26</td>\n",
       "      <td>5.28</td>\n",
       "      <td>43.07</td>\n",
       "      <td>3.90</td>\n",
       "      <td>75.35</td>\n",
       "      <td>4.04</td>\n",
       "      <td>38.31</td>\n",
       "      <td>3.34</td>\n",
       "      <td>SW</td>\n",
       "    </tr>\n",
       "    <tr>\n",
       "      <th>3</th>\n",
       "      <td>3</td>\n",
       "      <td>77.65</td>\n",
       "      <td>5.70</td>\n",
       "      <td>65.76</td>\n",
       "      <td>4.77</td>\n",
       "      <td>40.04</td>\n",
       "      <td>3.52</td>\n",
       "      <td>69.17</td>\n",
       "      <td>3.40</td>\n",
       "      <td>35.78</td>\n",
       "      <td>3.41</td>\n",
       "      <td>SW</td>\n",
       "    </tr>\n",
       "    <tr>\n",
       "      <th>4</th>\n",
       "      <td>4</td>\n",
       "      <td>62.80</td>\n",
       "      <td>4.84</td>\n",
       "      <td>52.09</td>\n",
       "      <td>3.73</td>\n",
       "      <td>33.95</td>\n",
       "      <td>2.72</td>\n",
       "      <td>56.27</td>\n",
       "      <td>2.96</td>\n",
       "      <td>31.88</td>\n",
       "      <td>3.13</td>\n",
       "      <td>SW</td>\n",
       "    </tr>\n",
       "  </tbody>\n",
       "</table>\n",
       "</div>"
      ],
      "text/plain": [
       "   id   huml  humw  ulnal  ulnaw   feml  femw   tibl  tibw   tarl  tarw type\n",
       "0   0  80.78  6.68  72.01   4.88  41.81  3.70   5.50  4.03  38.70  3.84   SW\n",
       "1   1  88.91  6.63  80.53   5.59  47.04  4.30  80.22  4.51  41.50  4.01   SW\n",
       "2   2  79.97  6.37  69.26   5.28  43.07  3.90  75.35  4.04  38.31  3.34   SW\n",
       "3   3  77.65  5.70  65.76   4.77  40.04  3.52  69.17  3.40  35.78  3.41   SW\n",
       "4   4  62.80  4.84  52.09   3.73  33.95  2.72  56.27  2.96  31.88  3.13   SW"
      ]
     },
     "execution_count": 13,
     "metadata": {},
     "output_type": "execute_result"
    }
   ],
   "source": [
    "df.head()"
   ]
  },
  {
   "cell_type": "code",
   "execution_count": 14,
   "id": "b837ccda",
   "metadata": {},
   "outputs": [
    {
     "name": "stdout",
     "output_type": "stream",
     "text": [
      "<class 'pandas.core.frame.DataFrame'>\n",
      "Int64Index: 413 entries, 0 to 419\n",
      "Data columns (total 12 columns):\n",
      " #   Column  Non-Null Count  Dtype  \n",
      "---  ------  --------------  -----  \n",
      " 0   id      413 non-null    int64  \n",
      " 1   huml    413 non-null    float64\n",
      " 2   humw    413 non-null    float64\n",
      " 3   ulnal   413 non-null    float64\n",
      " 4   ulnaw   413 non-null    float64\n",
      " 5   feml    413 non-null    float64\n",
      " 6   femw    413 non-null    float64\n",
      " 7   tibl    413 non-null    float64\n",
      " 8   tibw    413 non-null    float64\n",
      " 9   tarl    413 non-null    float64\n",
      " 10  tarw    413 non-null    float64\n",
      " 11  type    413 non-null    object \n",
      "dtypes: float64(10), int64(1), object(1)\n",
      "memory usage: 58.1+ KB\n"
     ]
    }
   ],
   "source": [
    "df.info()"
   ]
  },
  {
   "cell_type": "code",
   "execution_count": 15,
   "id": "e5870067",
   "metadata": {},
   "outputs": [],
   "source": [
    "df.drop('id', axis=1, inplace=True)"
   ]
  },
  {
   "cell_type": "markdown",
   "id": "8ac957c8",
   "metadata": {},
   "source": [
    "inplace=True required to make the change permanent otherwise ID column keeps coming back"
   ]
  },
  {
   "cell_type": "code",
   "execution_count": 16,
   "id": "9a4419d0",
   "metadata": {},
   "outputs": [
    {
     "data": {
      "text/html": [
       "<div>\n",
       "<style scoped>\n",
       "    .dataframe tbody tr th:only-of-type {\n",
       "        vertical-align: middle;\n",
       "    }\n",
       "\n",
       "    .dataframe tbody tr th {\n",
       "        vertical-align: top;\n",
       "    }\n",
       "\n",
       "    .dataframe thead th {\n",
       "        text-align: right;\n",
       "    }\n",
       "</style>\n",
       "<table border=\"1\" class=\"dataframe\">\n",
       "  <thead>\n",
       "    <tr style=\"text-align: right;\">\n",
       "      <th></th>\n",
       "      <th>huml</th>\n",
       "      <th>humw</th>\n",
       "      <th>ulnal</th>\n",
       "      <th>ulnaw</th>\n",
       "      <th>feml</th>\n",
       "      <th>femw</th>\n",
       "      <th>tibl</th>\n",
       "      <th>tibw</th>\n",
       "      <th>tarl</th>\n",
       "      <th>tarw</th>\n",
       "      <th>type</th>\n",
       "    </tr>\n",
       "  </thead>\n",
       "  <tbody>\n",
       "    <tr>\n",
       "      <th>0</th>\n",
       "      <td>80.78</td>\n",
       "      <td>6.68</td>\n",
       "      <td>72.01</td>\n",
       "      <td>4.88</td>\n",
       "      <td>41.81</td>\n",
       "      <td>3.70</td>\n",
       "      <td>5.50</td>\n",
       "      <td>4.03</td>\n",
       "      <td>38.70</td>\n",
       "      <td>3.84</td>\n",
       "      <td>SW</td>\n",
       "    </tr>\n",
       "    <tr>\n",
       "      <th>1</th>\n",
       "      <td>88.91</td>\n",
       "      <td>6.63</td>\n",
       "      <td>80.53</td>\n",
       "      <td>5.59</td>\n",
       "      <td>47.04</td>\n",
       "      <td>4.30</td>\n",
       "      <td>80.22</td>\n",
       "      <td>4.51</td>\n",
       "      <td>41.50</td>\n",
       "      <td>4.01</td>\n",
       "      <td>SW</td>\n",
       "    </tr>\n",
       "    <tr>\n",
       "      <th>2</th>\n",
       "      <td>79.97</td>\n",
       "      <td>6.37</td>\n",
       "      <td>69.26</td>\n",
       "      <td>5.28</td>\n",
       "      <td>43.07</td>\n",
       "      <td>3.90</td>\n",
       "      <td>75.35</td>\n",
       "      <td>4.04</td>\n",
       "      <td>38.31</td>\n",
       "      <td>3.34</td>\n",
       "      <td>SW</td>\n",
       "    </tr>\n",
       "    <tr>\n",
       "      <th>3</th>\n",
       "      <td>77.65</td>\n",
       "      <td>5.70</td>\n",
       "      <td>65.76</td>\n",
       "      <td>4.77</td>\n",
       "      <td>40.04</td>\n",
       "      <td>3.52</td>\n",
       "      <td>69.17</td>\n",
       "      <td>3.40</td>\n",
       "      <td>35.78</td>\n",
       "      <td>3.41</td>\n",
       "      <td>SW</td>\n",
       "    </tr>\n",
       "    <tr>\n",
       "      <th>4</th>\n",
       "      <td>62.80</td>\n",
       "      <td>4.84</td>\n",
       "      <td>52.09</td>\n",
       "      <td>3.73</td>\n",
       "      <td>33.95</td>\n",
       "      <td>2.72</td>\n",
       "      <td>56.27</td>\n",
       "      <td>2.96</td>\n",
       "      <td>31.88</td>\n",
       "      <td>3.13</td>\n",
       "      <td>SW</td>\n",
       "    </tr>\n",
       "  </tbody>\n",
       "</table>\n",
       "</div>"
      ],
      "text/plain": [
       "    huml  humw  ulnal  ulnaw   feml  femw   tibl  tibw   tarl  tarw type\n",
       "0  80.78  6.68  72.01   4.88  41.81  3.70   5.50  4.03  38.70  3.84   SW\n",
       "1  88.91  6.63  80.53   5.59  47.04  4.30  80.22  4.51  41.50  4.01   SW\n",
       "2  79.97  6.37  69.26   5.28  43.07  3.90  75.35  4.04  38.31  3.34   SW\n",
       "3  77.65  5.70  65.76   4.77  40.04  3.52  69.17  3.40  35.78  3.41   SW\n",
       "4  62.80  4.84  52.09   3.73  33.95  2.72  56.27  2.96  31.88  3.13   SW"
      ]
     },
     "execution_count": 16,
     "metadata": {},
     "output_type": "execute_result"
    }
   ],
   "source": [
    "df.head()"
   ]
  },
  {
   "cell_type": "code",
   "execution_count": 17,
   "id": "c769b5dd",
   "metadata": {},
   "outputs": [
    {
     "data": {
      "text/plain": [
       "huml     float64\n",
       "humw     float64\n",
       "ulnal    float64\n",
       "ulnaw    float64\n",
       "feml     float64\n",
       "femw     float64\n",
       "tibl     float64\n",
       "tibw     float64\n",
       "tarl     float64\n",
       "tarw     float64\n",
       "type      object\n",
       "dtype: object"
      ]
     },
     "execution_count": 17,
     "metadata": {},
     "output_type": "execute_result"
    }
   ],
   "source": [
    "df.dtypes"
   ]
  },
  {
   "cell_type": "code",
   "execution_count": 18,
   "id": "998c83b7",
   "metadata": {},
   "outputs": [
    {
     "name": "stderr",
     "output_type": "stream",
     "text": [
      "/home/msc1/anaconda3/envs/Env-7143COMP/lib/python3.7/site-packages/ipykernel_launcher.py:1: FutureWarning: Dropping of nuisance columns in DataFrame reductions (with 'numeric_only=None') is deprecated; in a future version this will raise TypeError.  Select only valid columns before calling the reduction.\n",
      "  \"\"\"Entry point for launching an IPython kernel.\n"
     ]
    },
    {
     "data": {
      "text/plain": [
       "huml     64.874867\n",
       "humw      4.381235\n",
       "ulnal    69.197409\n",
       "ulnaw     3.606538\n",
       "feml     36.822446\n",
       "femw      3.221768\n",
       "tibl     64.615642\n",
       "tibw      3.182324\n",
       "tarl     39.309806\n",
       "tarw      2.944891\n",
       "dtype: float64"
      ]
     },
     "execution_count": 18,
     "metadata": {},
     "output_type": "execute_result"
    }
   ],
   "source": [
    "df.mean(0,1)"
   ]
  },
  {
   "cell_type": "code",
   "execution_count": 19,
   "id": "42432ba2",
   "metadata": {},
   "outputs": [
    {
     "data": {
      "text/plain": [
       "Index(['huml', 'humw', 'ulnal', 'ulnaw', 'feml', 'femw', 'tibl', 'tibw',\n",
       "       'tarl', 'tarw', 'type'],\n",
       "      dtype='object')"
      ]
     },
     "execution_count": 19,
     "metadata": {},
     "output_type": "execute_result"
    }
   ],
   "source": [
    "df.columns"
   ]
  },
  {
   "cell_type": "code",
   "execution_count": 20,
   "id": "82f4e2f4",
   "metadata": {},
   "outputs": [
    {
     "data": {
      "text/html": [
       "<div>\n",
       "<style scoped>\n",
       "    .dataframe tbody tr th:only-of-type {\n",
       "        vertical-align: middle;\n",
       "    }\n",
       "\n",
       "    .dataframe tbody tr th {\n",
       "        vertical-align: top;\n",
       "    }\n",
       "\n",
       "    .dataframe thead th {\n",
       "        text-align: right;\n",
       "    }\n",
       "</style>\n",
       "<table border=\"1\" class=\"dataframe\">\n",
       "  <thead>\n",
       "    <tr style=\"text-align: right;\">\n",
       "      <th></th>\n",
       "      <th>huml</th>\n",
       "      <th>humw</th>\n",
       "      <th>ulnal</th>\n",
       "      <th>ulnaw</th>\n",
       "      <th>feml</th>\n",
       "      <th>femw</th>\n",
       "      <th>tibl</th>\n",
       "      <th>tibw</th>\n",
       "      <th>tarl</th>\n",
       "      <th>tarw</th>\n",
       "      <th>type</th>\n",
       "    </tr>\n",
       "  </thead>\n",
       "  <tbody>\n",
       "    <tr>\n",
       "      <th>0</th>\n",
       "      <td>80.78</td>\n",
       "      <td>6.68</td>\n",
       "      <td>72.01</td>\n",
       "      <td>4.88</td>\n",
       "      <td>41.81</td>\n",
       "      <td>3.70</td>\n",
       "      <td>5.50</td>\n",
       "      <td>4.03</td>\n",
       "      <td>38.70</td>\n",
       "      <td>3.84</td>\n",
       "      <td>SW</td>\n",
       "    </tr>\n",
       "    <tr>\n",
       "      <th>1</th>\n",
       "      <td>88.91</td>\n",
       "      <td>6.63</td>\n",
       "      <td>80.53</td>\n",
       "      <td>5.59</td>\n",
       "      <td>47.04</td>\n",
       "      <td>4.30</td>\n",
       "      <td>80.22</td>\n",
       "      <td>4.51</td>\n",
       "      <td>41.50</td>\n",
       "      <td>4.01</td>\n",
       "      <td>SW</td>\n",
       "    </tr>\n",
       "    <tr>\n",
       "      <th>2</th>\n",
       "      <td>79.97</td>\n",
       "      <td>6.37</td>\n",
       "      <td>69.26</td>\n",
       "      <td>5.28</td>\n",
       "      <td>43.07</td>\n",
       "      <td>3.90</td>\n",
       "      <td>75.35</td>\n",
       "      <td>4.04</td>\n",
       "      <td>38.31</td>\n",
       "      <td>3.34</td>\n",
       "      <td>SW</td>\n",
       "    </tr>\n",
       "    <tr>\n",
       "      <th>3</th>\n",
       "      <td>77.65</td>\n",
       "      <td>5.70</td>\n",
       "      <td>65.76</td>\n",
       "      <td>4.77</td>\n",
       "      <td>40.04</td>\n",
       "      <td>3.52</td>\n",
       "      <td>69.17</td>\n",
       "      <td>3.40</td>\n",
       "      <td>35.78</td>\n",
       "      <td>3.41</td>\n",
       "      <td>SW</td>\n",
       "    </tr>\n",
       "    <tr>\n",
       "      <th>4</th>\n",
       "      <td>62.80</td>\n",
       "      <td>4.84</td>\n",
       "      <td>52.09</td>\n",
       "      <td>3.73</td>\n",
       "      <td>33.95</td>\n",
       "      <td>2.72</td>\n",
       "      <td>56.27</td>\n",
       "      <td>2.96</td>\n",
       "      <td>31.88</td>\n",
       "      <td>3.13</td>\n",
       "      <td>SW</td>\n",
       "    </tr>\n",
       "  </tbody>\n",
       "</table>\n",
       "</div>"
      ],
      "text/plain": [
       "    huml  humw  ulnal  ulnaw   feml  femw   tibl  tibw   tarl  tarw type\n",
       "0  80.78  6.68  72.01   4.88  41.81  3.70   5.50  4.03  38.70  3.84   SW\n",
       "1  88.91  6.63  80.53   5.59  47.04  4.30  80.22  4.51  41.50  4.01   SW\n",
       "2  79.97  6.37  69.26   5.28  43.07  3.90  75.35  4.04  38.31  3.34   SW\n",
       "3  77.65  5.70  65.76   4.77  40.04  3.52  69.17  3.40  35.78  3.41   SW\n",
       "4  62.80  4.84  52.09   3.73  33.95  2.72  56.27  2.96  31.88  3.13   SW"
      ]
     },
     "execution_count": 20,
     "metadata": {},
     "output_type": "execute_result"
    }
   ],
   "source": [
    "df.head()"
   ]
  },
  {
   "cell_type": "code",
   "execution_count": 21,
   "id": "93cd57b7",
   "metadata": {},
   "outputs": [
    {
     "data": {
      "text/html": [
       "<div>\n",
       "<style scoped>\n",
       "    .dataframe tbody tr th:only-of-type {\n",
       "        vertical-align: middle;\n",
       "    }\n",
       "\n",
       "    .dataframe tbody tr th {\n",
       "        vertical-align: top;\n",
       "    }\n",
       "\n",
       "    .dataframe thead th {\n",
       "        text-align: right;\n",
       "    }\n",
       "</style>\n",
       "<table border=\"1\" class=\"dataframe\">\n",
       "  <thead>\n",
       "    <tr style=\"text-align: right;\">\n",
       "      <th></th>\n",
       "      <th>huml</th>\n",
       "      <th>humw</th>\n",
       "      <th>ulnal</th>\n",
       "      <th>ulnaw</th>\n",
       "      <th>feml</th>\n",
       "      <th>femw</th>\n",
       "      <th>tibl</th>\n",
       "      <th>tibw</th>\n",
       "      <th>tarl</th>\n",
       "      <th>tarw</th>\n",
       "    </tr>\n",
       "  </thead>\n",
       "  <tbody>\n",
       "    <tr>\n",
       "      <th>huml</th>\n",
       "      <td>1.000000</td>\n",
       "      <td>0.916465</td>\n",
       "      <td>0.976302</td>\n",
       "      <td>0.886382</td>\n",
       "      <td>0.772928</td>\n",
       "      <td>0.851821</td>\n",
       "      <td>0.826752</td>\n",
       "      <td>0.870407</td>\n",
       "      <td>0.694274</td>\n",
       "      <td>0.750388</td>\n",
       "    </tr>\n",
       "    <tr>\n",
       "      <th>humw</th>\n",
       "      <td>0.916465</td>\n",
       "      <td>1.000000</td>\n",
       "      <td>0.900621</td>\n",
       "      <td>0.957503</td>\n",
       "      <td>0.871638</td>\n",
       "      <td>0.936673</td>\n",
       "      <td>0.819305</td>\n",
       "      <td>0.901130</td>\n",
       "      <td>0.674950</td>\n",
       "      <td>0.891632</td>\n",
       "    </tr>\n",
       "    <tr>\n",
       "      <th>ulnal</th>\n",
       "      <td>0.976302</td>\n",
       "      <td>0.900621</td>\n",
       "      <td>1.000000</td>\n",
       "      <td>0.871027</td>\n",
       "      <td>0.759996</td>\n",
       "      <td>0.838314</td>\n",
       "      <td>0.761361</td>\n",
       "      <td>0.818657</td>\n",
       "      <td>0.652631</td>\n",
       "      <td>0.737225</td>\n",
       "    </tr>\n",
       "    <tr>\n",
       "      <th>ulnaw</th>\n",
       "      <td>0.886382</td>\n",
       "      <td>0.957503</td>\n",
       "      <td>0.871027</td>\n",
       "      <td>1.000000</td>\n",
       "      <td>0.826120</td>\n",
       "      <td>0.898089</td>\n",
       "      <td>0.796206</td>\n",
       "      <td>0.870106</td>\n",
       "      <td>0.640893</td>\n",
       "      <td>0.870153</td>\n",
       "    </tr>\n",
       "    <tr>\n",
       "      <th>feml</th>\n",
       "      <td>0.772928</td>\n",
       "      <td>0.871638</td>\n",
       "      <td>0.759996</td>\n",
       "      <td>0.826120</td>\n",
       "      <td>1.000000</td>\n",
       "      <td>0.943860</td>\n",
       "      <td>0.860877</td>\n",
       "      <td>0.903487</td>\n",
       "      <td>0.831127</td>\n",
       "      <td>0.869033</td>\n",
       "    </tr>\n",
       "    <tr>\n",
       "      <th>femw</th>\n",
       "      <td>0.851821</td>\n",
       "      <td>0.936673</td>\n",
       "      <td>0.838314</td>\n",
       "      <td>0.898089</td>\n",
       "      <td>0.943860</td>\n",
       "      <td>1.000000</td>\n",
       "      <td>0.868204</td>\n",
       "      <td>0.959316</td>\n",
       "      <td>0.777503</td>\n",
       "      <td>0.901419</td>\n",
       "    </tr>\n",
       "    <tr>\n",
       "      <th>tibl</th>\n",
       "      <td>0.826752</td>\n",
       "      <td>0.819305</td>\n",
       "      <td>0.761361</td>\n",
       "      <td>0.796206</td>\n",
       "      <td>0.860877</td>\n",
       "      <td>0.868204</td>\n",
       "      <td>1.000000</td>\n",
       "      <td>0.928755</td>\n",
       "      <td>0.922619</td>\n",
       "      <td>0.736449</td>\n",
       "    </tr>\n",
       "    <tr>\n",
       "      <th>tibw</th>\n",
       "      <td>0.870407</td>\n",
       "      <td>0.901130</td>\n",
       "      <td>0.818657</td>\n",
       "      <td>0.870106</td>\n",
       "      <td>0.903487</td>\n",
       "      <td>0.959316</td>\n",
       "      <td>0.928755</td>\n",
       "      <td>1.000000</td>\n",
       "      <td>0.825158</td>\n",
       "      <td>0.854591</td>\n",
       "    </tr>\n",
       "    <tr>\n",
       "      <th>tarl</th>\n",
       "      <td>0.694274</td>\n",
       "      <td>0.674950</td>\n",
       "      <td>0.652631</td>\n",
       "      <td>0.640893</td>\n",
       "      <td>0.831127</td>\n",
       "      <td>0.777503</td>\n",
       "      <td>0.922619</td>\n",
       "      <td>0.825158</td>\n",
       "      <td>1.000000</td>\n",
       "      <td>0.603728</td>\n",
       "    </tr>\n",
       "    <tr>\n",
       "      <th>tarw</th>\n",
       "      <td>0.750388</td>\n",
       "      <td>0.891632</td>\n",
       "      <td>0.737225</td>\n",
       "      <td>0.870153</td>\n",
       "      <td>0.869033</td>\n",
       "      <td>0.901419</td>\n",
       "      <td>0.736449</td>\n",
       "      <td>0.854591</td>\n",
       "      <td>0.603728</td>\n",
       "      <td>1.000000</td>\n",
       "    </tr>\n",
       "  </tbody>\n",
       "</table>\n",
       "</div>"
      ],
      "text/plain": [
       "           huml      humw     ulnal     ulnaw      feml      femw      tibl  \\\n",
       "huml   1.000000  0.916465  0.976302  0.886382  0.772928  0.851821  0.826752   \n",
       "humw   0.916465  1.000000  0.900621  0.957503  0.871638  0.936673  0.819305   \n",
       "ulnal  0.976302  0.900621  1.000000  0.871027  0.759996  0.838314  0.761361   \n",
       "ulnaw  0.886382  0.957503  0.871027  1.000000  0.826120  0.898089  0.796206   \n",
       "feml   0.772928  0.871638  0.759996  0.826120  1.000000  0.943860  0.860877   \n",
       "femw   0.851821  0.936673  0.838314  0.898089  0.943860  1.000000  0.868204   \n",
       "tibl   0.826752  0.819305  0.761361  0.796206  0.860877  0.868204  1.000000   \n",
       "tibw   0.870407  0.901130  0.818657  0.870106  0.903487  0.959316  0.928755   \n",
       "tarl   0.694274  0.674950  0.652631  0.640893  0.831127  0.777503  0.922619   \n",
       "tarw   0.750388  0.891632  0.737225  0.870153  0.869033  0.901419  0.736449   \n",
       "\n",
       "           tibw      tarl      tarw  \n",
       "huml   0.870407  0.694274  0.750388  \n",
       "humw   0.901130  0.674950  0.891632  \n",
       "ulnal  0.818657  0.652631  0.737225  \n",
       "ulnaw  0.870106  0.640893  0.870153  \n",
       "feml   0.903487  0.831127  0.869033  \n",
       "femw   0.959316  0.777503  0.901419  \n",
       "tibl   0.928755  0.922619  0.736449  \n",
       "tibw   1.000000  0.825158  0.854591  \n",
       "tarl   0.825158  1.000000  0.603728  \n",
       "tarw   0.854591  0.603728  1.000000  "
      ]
     },
     "execution_count": 21,
     "metadata": {},
     "output_type": "execute_result"
    }
   ],
   "source": [
    "df.corr()"
   ]
  },
  {
   "cell_type": "code",
   "execution_count": 22,
   "id": "20ff0d5c",
   "metadata": {
    "scrolled": false
   },
   "outputs": [
    {
     "data": {
      "text/plain": [
       "<AxesSubplot:xlabel='type', ylabel='huml'>"
      ]
     },
     "execution_count": 22,
     "metadata": {},
     "output_type": "execute_result"
    },
    {
     "data": {
      "image/png": "[encoded data removed]",
      "text/plain": [
       "<Figure size 864x504 with 1 Axes>"
      ]
     },
     "metadata": {
      "needs_background": "light"
     },
     "output_type": "display_data"
    }
   ],
   "source": [
    "plt.figure(figsize=(12,7))\n",
    "sns.boxplot(x='type',y='huml', data=df,palette='winter')"
   ]
  },
  {
   "cell_type": "code",
   "execution_count": 23,
   "id": "0e5cf331",
   "metadata": {},
   "outputs": [],
   "source": [
    "smote = SMOTE()"
   ]
  },
  {
   "cell_type": "code",
   "execution_count": 24,
   "id": "1c8255d5",
   "metadata": {},
   "outputs": [
    {
     "data": {
      "text/html": [
       "<div>\n",
       "<style scoped>\n",
       "    .dataframe tbody tr th:only-of-type {\n",
       "        vertical-align: middle;\n",
       "    }\n",
       "\n",
       "    .dataframe tbody tr th {\n",
       "        vertical-align: top;\n",
       "    }\n",
       "\n",
       "    .dataframe thead th {\n",
       "        text-align: right;\n",
       "    }\n",
       "</style>\n",
       "<table border=\"1\" class=\"dataframe\">\n",
       "  <thead>\n",
       "    <tr style=\"text-align: right;\">\n",
       "      <th></th>\n",
       "      <th>huml</th>\n",
       "      <th>humw</th>\n",
       "      <th>ulnal</th>\n",
       "      <th>ulnaw</th>\n",
       "      <th>feml</th>\n",
       "      <th>femw</th>\n",
       "      <th>tibl</th>\n",
       "      <th>tibw</th>\n",
       "      <th>tarl</th>\n",
       "      <th>tarw</th>\n",
       "      <th>type</th>\n",
       "    </tr>\n",
       "  </thead>\n",
       "  <tbody>\n",
       "    <tr>\n",
       "      <th>0</th>\n",
       "      <td>80.78</td>\n",
       "      <td>6.68</td>\n",
       "      <td>72.01</td>\n",
       "      <td>4.88</td>\n",
       "      <td>41.81</td>\n",
       "      <td>3.70</td>\n",
       "      <td>5.50</td>\n",
       "      <td>4.03</td>\n",
       "      <td>38.70</td>\n",
       "      <td>3.84</td>\n",
       "      <td>SW</td>\n",
       "    </tr>\n",
       "    <tr>\n",
       "      <th>1</th>\n",
       "      <td>88.91</td>\n",
       "      <td>6.63</td>\n",
       "      <td>80.53</td>\n",
       "      <td>5.59</td>\n",
       "      <td>47.04</td>\n",
       "      <td>4.30</td>\n",
       "      <td>80.22</td>\n",
       "      <td>4.51</td>\n",
       "      <td>41.50</td>\n",
       "      <td>4.01</td>\n",
       "      <td>SW</td>\n",
       "    </tr>\n",
       "    <tr>\n",
       "      <th>2</th>\n",
       "      <td>79.97</td>\n",
       "      <td>6.37</td>\n",
       "      <td>69.26</td>\n",
       "      <td>5.28</td>\n",
       "      <td>43.07</td>\n",
       "      <td>3.90</td>\n",
       "      <td>75.35</td>\n",
       "      <td>4.04</td>\n",
       "      <td>38.31</td>\n",
       "      <td>3.34</td>\n",
       "      <td>SW</td>\n",
       "    </tr>\n",
       "    <tr>\n",
       "      <th>3</th>\n",
       "      <td>77.65</td>\n",
       "      <td>5.70</td>\n",
       "      <td>65.76</td>\n",
       "      <td>4.77</td>\n",
       "      <td>40.04</td>\n",
       "      <td>3.52</td>\n",
       "      <td>69.17</td>\n",
       "      <td>3.40</td>\n",
       "      <td>35.78</td>\n",
       "      <td>3.41</td>\n",
       "      <td>SW</td>\n",
       "    </tr>\n",
       "    <tr>\n",
       "      <th>4</th>\n",
       "      <td>62.80</td>\n",
       "      <td>4.84</td>\n",
       "      <td>52.09</td>\n",
       "      <td>3.73</td>\n",
       "      <td>33.95</td>\n",
       "      <td>2.72</td>\n",
       "      <td>56.27</td>\n",
       "      <td>2.96</td>\n",
       "      <td>31.88</td>\n",
       "      <td>3.13</td>\n",
       "      <td>SW</td>\n",
       "    </tr>\n",
       "  </tbody>\n",
       "</table>\n",
       "</div>"
      ],
      "text/plain": [
       "    huml  humw  ulnal  ulnaw   feml  femw   tibl  tibw   tarl  tarw type\n",
       "0  80.78  6.68  72.01   4.88  41.81  3.70   5.50  4.03  38.70  3.84   SW\n",
       "1  88.91  6.63  80.53   5.59  47.04  4.30  80.22  4.51  41.50  4.01   SW\n",
       "2  79.97  6.37  69.26   5.28  43.07  3.90  75.35  4.04  38.31  3.34   SW\n",
       "3  77.65  5.70  65.76   4.77  40.04  3.52  69.17  3.40  35.78  3.41   SW\n",
       "4  62.80  4.84  52.09   3.73  33.95  2.72  56.27  2.96  31.88  3.13   SW"
      ]
     },
     "execution_count": 24,
     "metadata": {},
     "output_type": "execute_result"
    }
   ],
   "source": [
    "df.head()"
   ]
  },
  {
   "cell_type": "code",
   "execution_count": 25,
   "id": "0e3dedd6",
   "metadata": {},
   "outputs": [
    {
     "data": {
      "text/plain": [
       "type\n",
       "SO    124\n",
       "SW    116\n",
       "W      64\n",
       "R      48\n",
       "P      38\n",
       "T      23\n",
       "dtype: int64"
      ]
     },
     "execution_count": 25,
     "metadata": {},
     "output_type": "execute_result"
    }
   ],
   "source": [
    "df.value_counts('type')"
   ]
  },
  {
   "cell_type": "markdown",
   "id": "73542df6",
   "metadata": {},
   "source": [
    "Encoding our classes ('type' column) so that our models can have an easier time with the data"
   ]
  },
  {
   "cell_type": "code",
   "execution_count": 26,
   "id": "32e52cdc",
   "metadata": {},
   "outputs": [
    {
     "data": {
      "text/html": [
       "<div>\n",
       "<style scoped>\n",
       "    .dataframe tbody tr th:only-of-type {\n",
       "        vertical-align: middle;\n",
       "    }\n",
       "\n",
       "    .dataframe tbody tr th {\n",
       "        vertical-align: top;\n",
       "    }\n",
       "\n",
       "    .dataframe thead th {\n",
       "        text-align: right;\n",
       "    }\n",
       "</style>\n",
       "<table border=\"1\" class=\"dataframe\">\n",
       "  <thead>\n",
       "    <tr style=\"text-align: right;\">\n",
       "      <th></th>\n",
       "      <th>huml</th>\n",
       "      <th>humw</th>\n",
       "      <th>ulnal</th>\n",
       "      <th>ulnaw</th>\n",
       "      <th>feml</th>\n",
       "      <th>femw</th>\n",
       "      <th>tibl</th>\n",
       "      <th>tibw</th>\n",
       "      <th>tarl</th>\n",
       "      <th>tarw</th>\n",
       "      <th>type</th>\n",
       "    </tr>\n",
       "  </thead>\n",
       "  <tbody>\n",
       "    <tr>\n",
       "      <th>0</th>\n",
       "      <td>80.78</td>\n",
       "      <td>6.68</td>\n",
       "      <td>72.01</td>\n",
       "      <td>4.88</td>\n",
       "      <td>41.81</td>\n",
       "      <td>3.70</td>\n",
       "      <td>5.50</td>\n",
       "      <td>4.03</td>\n",
       "      <td>38.70</td>\n",
       "      <td>3.84</td>\n",
       "      <td>3</td>\n",
       "    </tr>\n",
       "    <tr>\n",
       "      <th>1</th>\n",
       "      <td>88.91</td>\n",
       "      <td>6.63</td>\n",
       "      <td>80.53</td>\n",
       "      <td>5.59</td>\n",
       "      <td>47.04</td>\n",
       "      <td>4.30</td>\n",
       "      <td>80.22</td>\n",
       "      <td>4.51</td>\n",
       "      <td>41.50</td>\n",
       "      <td>4.01</td>\n",
       "      <td>3</td>\n",
       "    </tr>\n",
       "    <tr>\n",
       "      <th>2</th>\n",
       "      <td>79.97</td>\n",
       "      <td>6.37</td>\n",
       "      <td>69.26</td>\n",
       "      <td>5.28</td>\n",
       "      <td>43.07</td>\n",
       "      <td>3.90</td>\n",
       "      <td>75.35</td>\n",
       "      <td>4.04</td>\n",
       "      <td>38.31</td>\n",
       "      <td>3.34</td>\n",
       "      <td>3</td>\n",
       "    </tr>\n",
       "    <tr>\n",
       "      <th>3</th>\n",
       "      <td>77.65</td>\n",
       "      <td>5.70</td>\n",
       "      <td>65.76</td>\n",
       "      <td>4.77</td>\n",
       "      <td>40.04</td>\n",
       "      <td>3.52</td>\n",
       "      <td>69.17</td>\n",
       "      <td>3.40</td>\n",
       "      <td>35.78</td>\n",
       "      <td>3.41</td>\n",
       "      <td>3</td>\n",
       "    </tr>\n",
       "    <tr>\n",
       "      <th>4</th>\n",
       "      <td>62.80</td>\n",
       "      <td>4.84</td>\n",
       "      <td>52.09</td>\n",
       "      <td>3.73</td>\n",
       "      <td>33.95</td>\n",
       "      <td>2.72</td>\n",
       "      <td>56.27</td>\n",
       "      <td>2.96</td>\n",
       "      <td>31.88</td>\n",
       "      <td>3.13</td>\n",
       "      <td>3</td>\n",
       "    </tr>\n",
       "  </tbody>\n",
       "</table>\n",
       "</div>"
      ],
      "text/plain": [
       "    huml  humw  ulnal  ulnaw   feml  femw   tibl  tibw   tarl  tarw  type\n",
       "0  80.78  6.68  72.01   4.88  41.81  3.70   5.50  4.03  38.70  3.84     3\n",
       "1  88.91  6.63  80.53   5.59  47.04  4.30  80.22  4.51  41.50  4.01     3\n",
       "2  79.97  6.37  69.26   5.28  43.07  3.90  75.35  4.04  38.31  3.34     3\n",
       "3  77.65  5.70  65.76   4.77  40.04  3.52  69.17  3.40  35.78  3.41     3\n",
       "4  62.80  4.84  52.09   3.73  33.95  2.72  56.27  2.96  31.88  3.13     3"
      ]
     },
     "execution_count": 26,
     "metadata": {},
     "output_type": "execute_result"
    }
   ],
   "source": [
    "enc = LabelEncoder()\n",
    "x = df\n",
    "x.loc[:,['type']] = x.loc[:,['type']].apply(enc.fit_transform)\n",
    "x.head()"
   ]
  },
  {
   "cell_type": "markdown",
   "id": "62e232f9",
   "metadata": {},
   "source": [
    "Encoding type label from string to int values"
   ]
  },
  {
   "cell_type": "code",
   "execution_count": 27,
   "id": "0a9f7fb6",
   "metadata": {
    "scrolled": false
   },
   "outputs": [
    {
     "data": {
      "text/plain": [
       "type\n",
       "2    124\n",
       "3    116\n",
       "5     64\n",
       "1     48\n",
       "0     38\n",
       "4     23\n",
       "dtype: int64"
      ]
     },
     "execution_count": 27,
     "metadata": {},
     "output_type": "execute_result"
    }
   ],
   "source": [
    "df.value_counts('type')"
   ]
  },
  {
   "cell_type": "markdown",
   "id": "e33ba4e1",
   "metadata": {},
   "source": [
    "SO = 2\n",
    "SW = 3\n",
    "W  = 5\n",
    "R  = 1 \n",
    "P  = 0\n",
    "T  = 4"
   ]
  },
  {
   "cell_type": "markdown",
   "id": "05994ddd",
   "metadata": {},
   "source": [
    "Assigning y to be our independent variable which is the our classifcation of 'type'"
   ]
  },
  {
   "cell_type": "code",
   "execution_count": 28,
   "id": "5ffa9ff5",
   "metadata": {},
   "outputs": [],
   "source": [
    "x = df.drop('type', axis=1)\n",
    "y = df['type']"
   ]
  },
  {
   "cell_type": "code",
   "execution_count": 29,
   "id": "3696f509",
   "metadata": {},
   "outputs": [
    {
     "name": "stdout",
     "output_type": "stream",
     "text": [
      "<class 'pandas.core.frame.DataFrame'>\n",
      "Int64Index: 413 entries, 0 to 419\n",
      "Data columns (total 11 columns):\n",
      " #   Column  Non-Null Count  Dtype  \n",
      "---  ------  --------------  -----  \n",
      " 0   huml    413 non-null    float64\n",
      " 1   humw    413 non-null    float64\n",
      " 2   ulnal   413 non-null    float64\n",
      " 3   ulnaw   413 non-null    float64\n",
      " 4   feml    413 non-null    float64\n",
      " 5   femw    413 non-null    float64\n",
      " 6   tibl    413 non-null    float64\n",
      " 7   tibw    413 non-null    float64\n",
      " 8   tarl    413 non-null    float64\n",
      " 9   tarw    413 non-null    float64\n",
      " 10  type    413 non-null    int64  \n",
      "dtypes: float64(10), int64(1)\n",
      "memory usage: 54.9 KB\n"
     ]
    }
   ],
   "source": [
    "df.info()"
   ]
  },
  {
   "cell_type": "markdown",
   "id": "f57557b2",
   "metadata": {},
   "source": [
    "Train/Test Split, test_size=0.3 seemed to provide better results for the eventual chosen Model (SVM), \n",
    "whilst at 0.2 it appeared to improve the other models results slightly but reduced SVM effectiveness."
   ]
  },
  {
   "cell_type": "code",
   "execution_count": 30,
   "id": "4d4155a1",
   "metadata": {
    "scrolled": true
   },
   "outputs": [],
   "source": [
    "x_train, x_test, y_train, y_test = train_test_split(x, y, test_size=0.3, random_state=42, stratify=y)\n",
    "x_train_smote, y_train_smote = smote.fit_resample(x_train, y_train)"
   ]
  },
  {
   "cell_type": "code",
   "execution_count": 31,
   "id": "0edb4b6b",
   "metadata": {},
   "outputs": [
    {
     "name": "stdout",
     "output_type": "stream",
     "text": [
      "Before: Counter({2: 87, 3: 81, 5: 45, 1: 33, 0: 27, 4: 16})\n",
      "After: Counter({3: 87, 0: 87, 2: 87, 1: 87, 4: 87, 5: 87})\n"
     ]
    }
   ],
   "source": [
    "print(\"Before:\" , Counter(y_train))\n",
    "print(\"After:\" , Counter(y_train_smote))\n",
    "## Checking if SMOTE (Oversampling) was done correctly"
   ]
  },
  {
   "cell_type": "code",
   "execution_count": 32,
   "id": "0b9d6950",
   "metadata": {},
   "outputs": [],
   "source": [
    "scaler = preprocessing.StandardScaler().fit_transform(x_train_smote[x_train_smote.columns])"
   ]
  },
  {
   "cell_type": "markdown",
   "id": "c344a77a",
   "metadata": {},
   "source": [
    "DecisionTree, used without oversampled data and then with oversampled data to ensure resampling done correctly - by seeing if there is an improvement."
   ]
  },
  {
   "cell_type": "code",
   "execution_count": 33,
   "id": "0dbf2778",
   "metadata": {},
   "outputs": [
    {
     "data": {
      "text/plain": [
       "DecisionTreeClassifier()"
      ]
     },
     "execution_count": 33,
     "metadata": {},
     "output_type": "execute_result"
    }
   ],
   "source": [
    "dtree = DecisionTreeClassifier()\n",
    "dtree.fit(x_train, y_train)"
   ]
  },
  {
   "cell_type": "code",
   "execution_count": 34,
   "id": "90ed6da6",
   "metadata": {},
   "outputs": [],
   "source": [
    "predictions = dtree.predict(x_test)"
   ]
  },
  {
   "cell_type": "code",
   "execution_count": null,
   "id": "8edd0dc9",
   "metadata": {},
   "outputs": [],
   "source": []
  },
  {
   "cell_type": "code",
   "execution_count": 35,
   "id": "a89d4f1d",
   "metadata": {
    "scrolled": false
   },
   "outputs": [
    {
     "name": "stdout",
     "output_type": "stream",
     "text": [
      "              precision    recall  f1-score   support\n",
      "\n",
      "           0       0.58      0.64      0.61        11\n",
      "           1       0.80      0.53      0.64        15\n",
      "           2       0.92      0.92      0.92        37\n",
      "           3       0.66      0.77      0.71        35\n",
      "           4       0.36      0.57      0.44         7\n",
      "           5       0.38      0.26      0.31        19\n",
      "\n",
      "    accuracy                           0.69       124\n",
      "   macro avg       0.62      0.62      0.61       124\n",
      "weighted avg       0.69      0.69      0.68       124\n",
      "\n"
     ]
    }
   ],
   "source": [
    "print(classification_report(y_test, predictions))"
   ]
  },
  {
   "cell_type": "code",
   "execution_count": 36,
   "id": "a685ecf2",
   "metadata": {},
   "outputs": [
    {
     "name": "stdout",
     "output_type": "stream",
     "text": [
      "[[ 7  0  0  1  2  1]\n",
      " [ 0  8  0  2  3  2]\n",
      " [ 1  0 34  0  2  0]\n",
      " [ 2  1  1 27  0  4]\n",
      " [ 0  1  1  0  4  1]\n",
      " [ 2  0  1 11  0  5]]\n"
     ]
    }
   ],
   "source": [
    "print(confusion_matrix(y_test,predictions))"
   ]
  },
  {
   "cell_type": "markdown",
   "id": "9537e5b3",
   "metadata": {},
   "source": [
    "Decision Tree Post SMOTE:"
   ]
  },
  {
   "cell_type": "code",
   "execution_count": 37,
   "id": "90c39acd",
   "metadata": {},
   "outputs": [
    {
     "data": {
      "text/plain": [
       "DecisionTreeClassifier()"
      ]
     },
     "execution_count": 37,
     "metadata": {},
     "output_type": "execute_result"
    }
   ],
   "source": [
    "dtree.fit(x_train_smote, y_train_smote)"
   ]
  },
  {
   "cell_type": "code",
   "execution_count": 38,
   "id": "68ff000e",
   "metadata": {},
   "outputs": [],
   "source": [
    "predictions = dtree.predict(x_test)"
   ]
  },
  {
   "cell_type": "code",
   "execution_count": 39,
   "id": "0bf445ec",
   "metadata": {},
   "outputs": [
    {
     "name": "stdout",
     "output_type": "stream",
     "text": [
      "              precision    recall  f1-score   support\n",
      "\n",
      "           0       0.71      0.91      0.80        11\n",
      "           1       0.79      0.73      0.76        15\n",
      "           2       0.92      0.92      0.92        37\n",
      "           3       0.69      0.83      0.75        35\n",
      "           4       1.00      0.57      0.73         7\n",
      "           5       0.31      0.21      0.25        19\n",
      "\n",
      "    accuracy                           0.74       124\n",
      "   macro avg       0.74      0.70      0.70       124\n",
      "weighted avg       0.73      0.74      0.73       124\n",
      "\n"
     ]
    }
   ],
   "source": [
    "print(classification_report(y_test, predictions))"
   ]
  },
  {
   "cell_type": "code",
   "execution_count": 40,
   "id": "9b41763e",
   "metadata": {},
   "outputs": [
    {
     "name": "stdout",
     "output_type": "stream",
     "text": [
      "[[10  0  0  0  0  1]\n",
      " [ 0 11  0  1  0  3]\n",
      " [ 1  0 34  0  0  2]\n",
      " [ 1  1  1 29  0  3]\n",
      " [ 0  2  1  0  4  0]\n",
      " [ 2  0  1 12  0  4]]\n"
     ]
    }
   ],
   "source": [
    "print(confusion_matrix(y_test,predictions))"
   ]
  },
  {
   "cell_type": "markdown",
   "id": "0bb1fa12",
   "metadata": {},
   "source": [
    "SVM Model:"
   ]
  },
  {
   "cell_type": "code",
   "execution_count": 41,
   "id": "874b8742",
   "metadata": {},
   "outputs": [],
   "source": [
    "\n",
    "second_model = SVC(kernel='linear', random_state=42)\n",
    "## RBF results awful, linear seems to provide strongest."
   ]
  },
  {
   "cell_type": "code",
   "execution_count": 42,
   "id": "774b7006",
   "metadata": {},
   "outputs": [
    {
     "data": {
      "text/plain": [
       "SVC(kernel='linear', random_state=42)"
      ]
     },
     "execution_count": 42,
     "metadata": {},
     "output_type": "execute_result"
    }
   ],
   "source": [
    "second_model.fit(x_train_smote, y_train_smote)"
   ]
  },
  {
   "cell_type": "code",
   "execution_count": 43,
   "id": "5e5e7a1c",
   "metadata": {},
   "outputs": [],
   "source": [
    "predictions = second_model.predict(x_test)"
   ]
  },
  {
   "cell_type": "code",
   "execution_count": 44,
   "id": "ead17329",
   "metadata": {},
   "outputs": [
    {
     "name": "stdout",
     "output_type": "stream",
     "text": [
      "              precision    recall  f1-score   support\n",
      "\n",
      "           0       0.67      0.73      0.70        11\n",
      "           1       0.77      0.67      0.71        15\n",
      "           2       0.92      0.95      0.93        37\n",
      "           3       0.80      0.91      0.85        35\n",
      "           4       0.75      0.86      0.80         7\n",
      "           5       0.92      0.63      0.75        19\n",
      "\n",
      "    accuracy                           0.83       124\n",
      "   macro avg       0.81      0.79      0.79       124\n",
      "weighted avg       0.84      0.83      0.83       124\n",
      "\n"
     ]
    }
   ],
   "source": [
    "print(classification_report(y_test, predictions))"
   ]
  },
  {
   "cell_type": "code",
   "execution_count": 45,
   "id": "796b71a9",
   "metadata": {},
   "outputs": [
    {
     "name": "stdout",
     "output_type": "stream",
     "text": [
      "[[ 8  1  1  0  0  1]\n",
      " [ 1 10  0  2  2  0]\n",
      " [ 2  0 35  0  0  0]\n",
      " [ 0  1  2 32  0  0]\n",
      " [ 1  0  0  0  6  0]\n",
      " [ 0  1  0  6  0 12]]\n"
     ]
    }
   ],
   "source": [
    "print(confusion_matrix(y_test,predictions))"
   ]
  },
  {
   "cell_type": "markdown",
   "id": "556398d2",
   "metadata": {},
   "source": [
    "Naive Bayes Model:"
   ]
  },
  {
   "cell_type": "code",
   "execution_count": 46,
   "id": "a1fbce7a",
   "metadata": {},
   "outputs": [
    {
     "data": {
      "text/plain": [
       "MultinomialNB()"
      ]
     },
     "execution_count": 46,
     "metadata": {},
     "output_type": "execute_result"
    }
   ],
   "source": [
    "## third_model = GaussianNB()\n",
    "third_model = MultinomialNB() ## Seems to provide best results\n",
    "## third_model = CategoricalNB() - Recieve and Index out of bound for axis 1 error when using this.\n",
    "third_model.fit(x_train_smote, y_train_smote)"
   ]
  },
  {
   "cell_type": "code",
   "execution_count": 47,
   "id": "7bd9992f",
   "metadata": {},
   "outputs": [],
   "source": [
    "predictions = third_model.predict(x_test)"
   ]
  },
  {
   "cell_type": "code",
   "execution_count": 48,
   "id": "2618c3da",
   "metadata": {},
   "outputs": [
    {
     "name": "stdout",
     "output_type": "stream",
     "text": [
      "              precision    recall  f1-score   support\n",
      "\n",
      "           0       0.16      0.27      0.20        11\n",
      "           1       0.45      0.33      0.38        15\n",
      "           2       0.87      0.89      0.88        37\n",
      "           3       0.54      0.40      0.46        35\n",
      "           4       0.80      0.57      0.67         7\n",
      "           5       0.28      0.37      0.32        19\n",
      "\n",
      "    accuracy                           0.53       124\n",
      "   macro avg       0.52      0.47      0.48       124\n",
      "weighted avg       0.57      0.53      0.54       124\n",
      "\n"
     ]
    }
   ],
   "source": [
    "print(classification_report(y_test, predictions))"
   ]
  },
  {
   "cell_type": "code",
   "execution_count": 49,
   "id": "e94fa4e7",
   "metadata": {},
   "outputs": [
    {
     "name": "stdout",
     "output_type": "stream",
     "text": [
      "[[ 3  4  1  2  1  0]\n",
      " [ 5  5  2  2  0  1]\n",
      " [ 4  0 33  0  0  0]\n",
      " [ 0  2  2 14  0 17]\n",
      " [ 3  0  0  0  4  0]\n",
      " [ 4  0  0  8  0  7]]\n"
     ]
    }
   ],
   "source": [
    "print(confusion_matrix(y_test,predictions))"
   ]
  },
  {
   "cell_type": "markdown",
   "id": "e3cfadf5",
   "metadata": {},
   "source": [
    "Logistic Regression Model:"
   ]
  },
  {
   "cell_type": "code",
   "execution_count": 50,
   "id": "6d25ef34",
   "metadata": {},
   "outputs": [],
   "source": [
    "fourth_model = LogisticRegression(random_state=42, solver='newton-cg', warm_start=True, class_weight='balanced') \n",
    "## 'newton-cg', 'sag' and 'lbfgs' used to handle multi-class problems"
   ]
  },
  {
   "cell_type": "code",
   "execution_count": 51,
   "id": "ceb093e8",
   "metadata": {},
   "outputs": [
    {
     "data": {
      "text/plain": [
       "LogisticRegression(class_weight='balanced', random_state=42, solver='newton-cg',\n",
       "                   warm_start=True)"
      ]
     },
     "execution_count": 51,
     "metadata": {},
     "output_type": "execute_result"
    }
   ],
   "source": [
    "fourth_model.fit(x_train_smote, y_train_smote)"
   ]
  },
  {
   "cell_type": "code",
   "execution_count": 52,
   "id": "b7afd4bd",
   "metadata": {},
   "outputs": [],
   "source": [
    "predictions = fourth_model.predict(x_test)"
   ]
  },
  {
   "cell_type": "code",
   "execution_count": 53,
   "id": "cd40c213",
   "metadata": {},
   "outputs": [
    {
     "name": "stdout",
     "output_type": "stream",
     "text": [
      "              precision    recall  f1-score   support\n",
      "\n",
      "           0       0.67      0.73      0.70        11\n",
      "           1       0.92      0.73      0.81        15\n",
      "           2       0.92      0.97      0.95        37\n",
      "           3       0.77      0.86      0.81        35\n",
      "           4       0.75      0.86      0.80         7\n",
      "           5       0.71      0.53      0.61        19\n",
      "\n",
      "    accuracy                           0.81       124\n",
      "   macro avg       0.79      0.78      0.78       124\n",
      "weighted avg       0.81      0.81      0.81       124\n",
      "\n"
     ]
    }
   ],
   "source": [
    "print(classification_report(y_test, predictions))"
   ]
  },
  {
   "cell_type": "markdown",
   "id": "22b9003f",
   "metadata": {},
   "source": [
    "Classification Scores:\n",
    "Newton-Cg: P - 0.81 R - 0.83\n",
    "Sag: P - 0.53 R - 0.6\n",
    "lbfgs: P - 0.73 R - 0.73 "
   ]
  },
  {
   "cell_type": "code",
   "execution_count": 54,
   "id": "9dcc3297",
   "metadata": {},
   "outputs": [
    {
     "name": "stdout",
     "output_type": "stream",
     "text": [
      "[[ 8  0  1  1  1  0]\n",
      " [ 1 11  0  1  1  1]\n",
      " [ 1  0 36  0  0  0]\n",
      " [ 1  0  1 30  0  3]\n",
      " [ 0  0  1  0  6  0]\n",
      " [ 1  1  0  7  0 10]]\n"
     ]
    }
   ],
   "source": [
    "print(confusion_matrix(y_test,predictions))"
   ]
  }
 ],
 "metadata": {
  "kernelspec": {
   "display_name": "Python 3",
   "language": "python",
   "name": "python3"
  },
  "language_info": {
   "codemirror_mode": {
    "name": "ipython",
    "version": 3
   },
   "file_extension": ".py",
   "mimetype": "text/x-python",
   "name": "python",
   "nbconvert_exporter": "python",
   "pygments_lexer": "ipython3",
   "version": "3.7.11"
  }
 },
 "nbformat": 4,
 "nbformat_minor": 5
}
